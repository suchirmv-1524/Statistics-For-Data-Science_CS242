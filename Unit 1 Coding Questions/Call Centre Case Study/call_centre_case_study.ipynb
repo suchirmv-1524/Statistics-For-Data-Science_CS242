{
 "cells": [
  {
   "cell_type": "code",
   "execution_count": 1,
   "metadata": {},
   "outputs": [
    {
     "data": {
      "text/html": [
       "<div>\n",
       "<style scoped>\n",
       "    .dataframe tbody tr th:only-of-type {\n",
       "        vertical-align: middle;\n",
       "    }\n",
       "\n",
       "    .dataframe tbody tr th {\n",
       "        vertical-align: top;\n",
       "    }\n",
       "\n",
       "    .dataframe thead th {\n",
       "        text-align: right;\n",
       "    }\n",
       "</style>\n",
       "<table border=\"1\" class=\"dataframe\">\n",
       "  <thead>\n",
       "    <tr style=\"text-align: right;\">\n",
       "      <th></th>\n",
       "      <th>Index</th>\n",
       "      <th>Incoming Calls</th>\n",
       "      <th>Answered Calls</th>\n",
       "      <th>Answer Rate</th>\n",
       "      <th>Abandoned Calls</th>\n",
       "      <th>Answer Speed (AVG)</th>\n",
       "      <th>Talk Duration (AVG)</th>\n",
       "      <th>Waiting Time (AVG)</th>\n",
       "      <th>Service Level (20 Seconds)</th>\n",
       "    </tr>\n",
       "  </thead>\n",
       "  <tbody>\n",
       "    <tr>\n",
       "      <th>0</th>\n",
       "      <td>1</td>\n",
       "      <td>217</td>\n",
       "      <td>204</td>\n",
       "      <td>94.01%</td>\n",
       "      <td>13</td>\n",
       "      <td>0:00:17</td>\n",
       "      <td>0:02:14</td>\n",
       "      <td>0:02:45</td>\n",
       "      <td>76.28%</td>\n",
       "    </tr>\n",
       "    <tr>\n",
       "      <th>1</th>\n",
       "      <td>2</td>\n",
       "      <td>200</td>\n",
       "      <td>182</td>\n",
       "      <td>91.00%</td>\n",
       "      <td>18</td>\n",
       "      <td>0:00:20</td>\n",
       "      <td>0:02:22</td>\n",
       "      <td>0:06:55</td>\n",
       "      <td>72.73%</td>\n",
       "    </tr>\n",
       "    <tr>\n",
       "      <th>2</th>\n",
       "      <td>3</td>\n",
       "      <td>216</td>\n",
       "      <td>198</td>\n",
       "      <td>91.67%</td>\n",
       "      <td>18</td>\n",
       "      <td>0:00:18</td>\n",
       "      <td>0:02:38</td>\n",
       "      <td>0:03:50</td>\n",
       "      <td>74.30%</td>\n",
       "    </tr>\n",
       "    <tr>\n",
       "      <th>3</th>\n",
       "      <td>4</td>\n",
       "      <td>155</td>\n",
       "      <td>145</td>\n",
       "      <td>93.55%</td>\n",
       "      <td>10</td>\n",
       "      <td>0:00:15</td>\n",
       "      <td>0:02:29</td>\n",
       "      <td>0:03:12</td>\n",
       "      <td>79.61%</td>\n",
       "    </tr>\n",
       "    <tr>\n",
       "      <th>4</th>\n",
       "      <td>5</td>\n",
       "      <td>37</td>\n",
       "      <td>37</td>\n",
       "      <td>100.00%</td>\n",
       "      <td>0</td>\n",
       "      <td>0:00:03</td>\n",
       "      <td>0:02:06</td>\n",
       "      <td>0:00:35</td>\n",
       "      <td>97.30%</td>\n",
       "    </tr>\n",
       "    <tr>\n",
       "      <th>...</th>\n",
       "      <td>...</td>\n",
       "      <td>...</td>\n",
       "      <td>...</td>\n",
       "      <td>...</td>\n",
       "      <td>...</td>\n",
       "      <td>...</td>\n",
       "      <td>...</td>\n",
       "      <td>...</td>\n",
       "      <td>...</td>\n",
       "    </tr>\n",
       "    <tr>\n",
       "      <th>1246</th>\n",
       "      <td>1247</td>\n",
       "      <td>191</td>\n",
       "      <td>184</td>\n",
       "      <td>96.34%</td>\n",
       "      <td>7</td>\n",
       "      <td>0:00:07</td>\n",
       "      <td>0:02:50</td>\n",
       "      <td>0:01:56</td>\n",
       "      <td>92.55%</td>\n",
       "    </tr>\n",
       "    <tr>\n",
       "      <th>1247</th>\n",
       "      <td>1248</td>\n",
       "      <td>212</td>\n",
       "      <td>209</td>\n",
       "      <td>98.58%</td>\n",
       "      <td>3</td>\n",
       "      <td>0:00:10</td>\n",
       "      <td>0:02:51</td>\n",
       "      <td>0:01:45</td>\n",
       "      <td>89.10%</td>\n",
       "    </tr>\n",
       "    <tr>\n",
       "      <th>1248</th>\n",
       "      <td>1249</td>\n",
       "      <td>210</td>\n",
       "      <td>203</td>\n",
       "      <td>96.67%</td>\n",
       "      <td>7</td>\n",
       "      <td>0:00:12</td>\n",
       "      <td>0:03:22</td>\n",
       "      <td>0:03:52</td>\n",
       "      <td>85.24%</td>\n",
       "    </tr>\n",
       "    <tr>\n",
       "      <th>1249</th>\n",
       "      <td>1250</td>\n",
       "      <td>167</td>\n",
       "      <td>159</td>\n",
       "      <td>95.21%</td>\n",
       "      <td>8</td>\n",
       "      <td>0:00:16</td>\n",
       "      <td>0:03:16</td>\n",
       "      <td>0:02:42</td>\n",
       "      <td>83.03%</td>\n",
       "    </tr>\n",
       "    <tr>\n",
       "      <th>1250</th>\n",
       "      <td>1251</td>\n",
       "      <td>12</td>\n",
       "      <td>11</td>\n",
       "      <td>91.67%</td>\n",
       "      <td>1</td>\n",
       "      <td>0:00:03</td>\n",
       "      <td>0:02:12</td>\n",
       "      <td>0:00:58</td>\n",
       "      <td>91.67%</td>\n",
       "    </tr>\n",
       "  </tbody>\n",
       "</table>\n",
       "<p>1251 rows × 9 columns</p>\n",
       "</div>"
      ],
      "text/plain": [
       "      Index  Incoming Calls  Answered Calls Answer Rate  Abandoned Calls  \\\n",
       "0         1             217             204      94.01%               13   \n",
       "1         2             200             182      91.00%               18   \n",
       "2         3             216             198      91.67%               18   \n",
       "3         4             155             145      93.55%               10   \n",
       "4         5              37              37     100.00%                0   \n",
       "...     ...             ...             ...         ...              ...   \n",
       "1246   1247             191             184      96.34%                7   \n",
       "1247   1248             212             209      98.58%                3   \n",
       "1248   1249             210             203      96.67%                7   \n",
       "1249   1250             167             159      95.21%                8   \n",
       "1250   1251              12              11      91.67%                1   \n",
       "\n",
       "     Answer Speed (AVG) Talk Duration (AVG) Waiting Time (AVG)  \\\n",
       "0               0:00:17             0:02:14            0:02:45   \n",
       "1               0:00:20             0:02:22            0:06:55   \n",
       "2               0:00:18             0:02:38            0:03:50   \n",
       "3               0:00:15             0:02:29            0:03:12   \n",
       "4               0:00:03             0:02:06            0:00:35   \n",
       "...                 ...                 ...                ...   \n",
       "1246            0:00:07             0:02:50            0:01:56   \n",
       "1247            0:00:10             0:02:51            0:01:45   \n",
       "1248            0:00:12             0:03:22            0:03:52   \n",
       "1249            0:00:16             0:03:16            0:02:42   \n",
       "1250            0:00:03             0:02:12            0:00:58   \n",
       "\n",
       "     Service Level (20 Seconds)  \n",
       "0                        76.28%  \n",
       "1                        72.73%  \n",
       "2                        74.30%  \n",
       "3                        79.61%  \n",
       "4                        97.30%  \n",
       "...                         ...  \n",
       "1246                     92.55%  \n",
       "1247                     89.10%  \n",
       "1248                     85.24%  \n",
       "1249                     83.03%  \n",
       "1250                     91.67%  \n",
       "\n",
       "[1251 rows x 9 columns]"
      ]
     },
     "execution_count": 1,
     "metadata": {},
     "output_type": "execute_result"
    }
   ],
   "source": [
    "import pandas as pd\n",
    "df = pd.read_csv('/Users/suchirmvelpanur/Desktop/SDS-TA-Materials/Call Centre Case Study/Call Center Data.csv')\n",
    "df"
   ]
  },
  {
   "cell_type": "code",
   "execution_count": 2,
   "metadata": {},
   "outputs": [
    {
     "data": {
      "image/png": "[encoded data removed]",
      "text/plain": [
       "<Figure size 640x480 with 1 Axes>"
      ]
     },
     "metadata": {},
     "output_type": "display_data"
    }
   ],
   "source": [
    "#visualising incoming calls\n",
    "import matplotlib.pyplot as plt\n",
    "\n",
    "df['Incoming Calls'].plot(kind = 'hist', xlabel = 'Incoming Calls')\n",
    "plt.show()"
   ]
  },
  {
   "cell_type": "code",
   "execution_count": 3,
   "metadata": {},
   "outputs": [
    {
     "data": {
      "text/plain": [
       "'The distribution of \"Incoming Calls\" is Poisson because \"Incoming calls\" happen within a fixed interval of time,\\nrandomly & independently, with a known average rate (λ).'"
      ]
     },
     "execution_count": 3,
     "metadata": {},
     "output_type": "execute_result"
    }
   ],
   "source": [
    "'''The distribution of \"Incoming Calls\" is Poisson because \"Incoming calls\" happen within a fixed interval of time,\n",
    "randomly & independently, with a known average rate (λ).'''"
   ]
  },
  {
   "cell_type": "code",
   "execution_count": 4,
   "metadata": {},
   "outputs": [
    {
     "name": "stdout",
     "output_type": "stream",
     "text": [
      "198.53956834532374\n"
     ]
    }
   ],
   "source": [
    "#Average rate (λ) of \"Incoming Calls\"\n",
    "\n",
    "λ = df['Incoming Calls'].mean()\n",
    "\n",
    "print(λ)"
   ]
  },
  {
   "cell_type": "code",
   "execution_count": 5,
   "metadata": {},
   "outputs": [
    {
     "name": "stdout",
     "output_type": "stream",
     "text": [
      "0.4400981809273451\n"
     ]
    }
   ],
   "source": [
    "'''how much is the probability of receiving more than 200 calls?\n",
    "P(x > 200) = 1 - P(x <= 200)'''\n",
    "\n",
    "from scipy.stats import poisson\n",
    "p = 1 - poisson.cdf(200, λ)\n",
    "\n",
    "print(p)"
   ]
  },
  {
   "cell_type": "code",
   "execution_count": 6,
   "metadata": {},
   "outputs": [
    {
     "data": {
      "text/plain": [
       "0.028047041223249556"
      ]
     },
     "execution_count": 6,
     "metadata": {},
     "output_type": "execute_result"
    }
   ],
   "source": [
    "'''but how much is the probability of receiving 200 calls?\n",
    "Poisson distribution is discrete so we can calculate probability for single values.\n",
    "\n",
    "for calculating probability of single values in Poisson distribution we use pmf()\n",
    "PMF = Probability Mass Function\n",
    "\n",
    "poisson.pmf(200, λ)'''"
   ]
  },
  {
   "cell_type": "code",
   "execution_count": 7,
   "metadata": {},
   "outputs": [],
   "source": [
    "'''\"Waiting Time\" refers to the duration that a customer waits before their call is answered by an available agent.\n",
    "the distribution of \"Waiting Time\" is Exponential.\n",
    "Exponential distribution models the time between events in a Poisson process.'''"
   ]
  },
  {
   "cell_type": "code",
   "execution_count": 8,
   "metadata": {},
   "outputs": [
    {
     "name": "stdout",
     "output_type": "stream",
     "text": [
      "object\n"
     ]
    }
   ],
   "source": [
    "# checking data type of \"Waiting Time\"\n",
    "\n",
    "print(df['Waiting Time (AVG)'].dtypes)"
   ]
  },
  {
   "cell_type": "code",
   "execution_count": 9,
   "metadata": {},
   "outputs": [],
   "source": [
    "'''in Python \"object\" type is a generic data type, that can hold any type of value.\n",
    "\"timedelta\" type used to store time intervals.'''"
   ]
  },
  {
   "cell_type": "code",
   "execution_count": 11,
   "metadata": {},
   "outputs": [],
   "source": [
    "#convert the type of \"Waiting Time\" from \"object\" to \"timedelta\"\n",
    "\n",
    "df['Waiting Time (AVG)'] = pd.to_timedelta(df['Waiting Time (AVG)'])"
   ]
  },
  {
   "cell_type": "code",
   "execution_count": 12,
   "metadata": {},
   "outputs": [
    {
     "name": "stdout",
     "output_type": "stream",
     "text": [
      "timedelta64[ns]\n"
     ]
    }
   ],
   "source": [
    "#check it's type again\n",
    "\n",
    "print(df['Waiting Time (AVG)'].dtypes)"
   ]
  },
  {
   "cell_type": "code",
   "execution_count": 13,
   "metadata": {},
   "outputs": [],
   "source": [
    "'''convert \"Waiting Time\" to minutes.\n",
    "to convert time, we use \"dt.total_seconds()\" method.'''\n",
    "\n",
    "df['waiting_time_minutes'] = df['Waiting Time (AVG)'].dt.total_seconds() / 60"
   ]
  },
  {
   "cell_type": "code",
   "execution_count": 14,
   "metadata": {},
   "outputs": [
    {
     "data": {
      "text/html": [
       "<div>\n",
       "<style scoped>\n",
       "    .dataframe tbody tr th:only-of-type {\n",
       "        vertical-align: middle;\n",
       "    }\n",
       "\n",
       "    .dataframe tbody tr th {\n",
       "        vertical-align: top;\n",
       "    }\n",
       "\n",
       "    .dataframe thead th {\n",
       "        text-align: right;\n",
       "    }\n",
       "</style>\n",
       "<table border=\"1\" class=\"dataframe\">\n",
       "  <thead>\n",
       "    <tr style=\"text-align: right;\">\n",
       "      <th></th>\n",
       "      <th>Index</th>\n",
       "      <th>Incoming Calls</th>\n",
       "      <th>Answered Calls</th>\n",
       "      <th>Answer Rate</th>\n",
       "      <th>Abandoned Calls</th>\n",
       "      <th>Answer Speed (AVG)</th>\n",
       "      <th>Talk Duration (AVG)</th>\n",
       "      <th>Waiting Time (AVG)</th>\n",
       "      <th>Service Level (20 Seconds)</th>\n",
       "      <th>waiting_time_minutes</th>\n",
       "    </tr>\n",
       "  </thead>\n",
       "  <tbody>\n",
       "    <tr>\n",
       "      <th>0</th>\n",
       "      <td>1</td>\n",
       "      <td>217</td>\n",
       "      <td>204</td>\n",
       "      <td>94.01%</td>\n",
       "      <td>13</td>\n",
       "      <td>0:00:17</td>\n",
       "      <td>0:02:14</td>\n",
       "      <td>0 days 00:02:45</td>\n",
       "      <td>76.28%</td>\n",
       "      <td>2.750000</td>\n",
       "    </tr>\n",
       "    <tr>\n",
       "      <th>1</th>\n",
       "      <td>2</td>\n",
       "      <td>200</td>\n",
       "      <td>182</td>\n",
       "      <td>91.00%</td>\n",
       "      <td>18</td>\n",
       "      <td>0:00:20</td>\n",
       "      <td>0:02:22</td>\n",
       "      <td>0 days 00:06:55</td>\n",
       "      <td>72.73%</td>\n",
       "      <td>6.916667</td>\n",
       "    </tr>\n",
       "    <tr>\n",
       "      <th>2</th>\n",
       "      <td>3</td>\n",
       "      <td>216</td>\n",
       "      <td>198</td>\n",
       "      <td>91.67%</td>\n",
       "      <td>18</td>\n",
       "      <td>0:00:18</td>\n",
       "      <td>0:02:38</td>\n",
       "      <td>0 days 00:03:50</td>\n",
       "      <td>74.30%</td>\n",
       "      <td>3.833333</td>\n",
       "    </tr>\n",
       "    <tr>\n",
       "      <th>3</th>\n",
       "      <td>4</td>\n",
       "      <td>155</td>\n",
       "      <td>145</td>\n",
       "      <td>93.55%</td>\n",
       "      <td>10</td>\n",
       "      <td>0:00:15</td>\n",
       "      <td>0:02:29</td>\n",
       "      <td>0 days 00:03:12</td>\n",
       "      <td>79.61%</td>\n",
       "      <td>3.200000</td>\n",
       "    </tr>\n",
       "    <tr>\n",
       "      <th>4</th>\n",
       "      <td>5</td>\n",
       "      <td>37</td>\n",
       "      <td>37</td>\n",
       "      <td>100.00%</td>\n",
       "      <td>0</td>\n",
       "      <td>0:00:03</td>\n",
       "      <td>0:02:06</td>\n",
       "      <td>0 days 00:00:35</td>\n",
       "      <td>97.30%</td>\n",
       "      <td>0.583333</td>\n",
       "    </tr>\n",
       "  </tbody>\n",
       "</table>\n",
       "</div>"
      ],
      "text/plain": [
       "   Index  Incoming Calls  Answered Calls Answer Rate  Abandoned Calls  \\\n",
       "0      1             217             204      94.01%               13   \n",
       "1      2             200             182      91.00%               18   \n",
       "2      3             216             198      91.67%               18   \n",
       "3      4             155             145      93.55%               10   \n",
       "4      5              37              37     100.00%                0   \n",
       "\n",
       "  Answer Speed (AVG) Talk Duration (AVG) Waiting Time (AVG)  \\\n",
       "0            0:00:17             0:02:14    0 days 00:02:45   \n",
       "1            0:00:20             0:02:22    0 days 00:06:55   \n",
       "2            0:00:18             0:02:38    0 days 00:03:50   \n",
       "3            0:00:15             0:02:29    0 days 00:03:12   \n",
       "4            0:00:03             0:02:06    0 days 00:00:35   \n",
       "\n",
       "  Service Level (20 Seconds)  waiting_time_minutes  \n",
       "0                     76.28%              2.750000  \n",
       "1                     72.73%              6.916667  \n",
       "2                     74.30%              3.833333  \n",
       "3                     79.61%              3.200000  \n",
       "4                     97.30%              0.583333  "
      ]
     },
     "execution_count": 14,
     "metadata": {},
     "output_type": "execute_result"
    }
   ],
   "source": [
    "df.head()"
   ]
  },
  {
   "cell_type": "code",
   "execution_count": 15,
   "metadata": {},
   "outputs": [
    {
     "data": {
      "image/png": "[encoded data removed]",
      "text/plain": [
       "<Figure size 640x480 with 1 Axes>"
      ]
     },
     "metadata": {},
     "output_type": "display_data"
    }
   ],
   "source": [
    "#visualize \"waiting_time_minutes\"\n",
    "\n",
    "df['waiting_time_minutes'].plot(kind = 'hist', xlabel = 'Waiting Time (in minutes)')\n",
    "plt.show()"
   ]
  },
  {
   "cell_type": "code",
   "execution_count": 16,
   "metadata": {},
   "outputs": [
    {
     "name": "stdout",
     "output_type": "stream",
     "text": [
      "0.006771970163116703\n"
     ]
    }
   ],
   "source": [
    "# How much is the probability of Waiting Time exceeding 5 minutes?\n",
    "# P(x > 5) = 1 - P(x <= 5)\n",
    "\n",
    "from scipy.stats import expon\n",
    "p = 1 - expon.cdf(5, 1/λ)\n",
    "\n",
    "print(p)"
   ]
  },
  {
   "cell_type": "code",
   "execution_count": 17,
   "metadata": {},
   "outputs": [
    {
     "data": {
      "text/plain": [
       "2.307621872354121"
      ]
     },
     "execution_count": 17,
     "metadata": {},
     "output_type": "execute_result"
    }
   ],
   "source": [
    "# in how many minutes do %90 of clients connect with the call center?\n",
    "expon.ppf(0.9, 1/λ)"
   ]
  },
  {
   "cell_type": "code",
   "execution_count": 21,
   "metadata": {},
   "outputs": [
    {
     "name": "stdout",
     "output_type": "stream",
     "text": [
      "Expected number of calls in 2 hour(s): 397.08\n",
      "Expected number of calls in 1 hour(s): 198.54\n",
      "Expected number of calls in 0.5 hour(s): 99.27\n",
      "Expected number of calls in 0.25 hour(s): 49.63\n"
     ]
    }
   ],
   "source": [
    "import pandas as pd\n",
    "from scipy.stats import poisson\n",
    "\n",
    "# Load the dataset (assuming it's a CSV file or already in the DataFrame 'df')\n",
    "# df = pd.read_csv('path_to_your_dataset.csv')\n",
    "\n",
    "# Calculate the average rate (λ) of \"Incoming Calls\"\n",
    "lambda_rate = df['Incoming Calls'].mean()\n",
    "\n",
    "# Define time durations (in hours)\n",
    "time_durations = [2, 1, 0.5, 0.25]  # 1 hour, 30 minutes, 15 minutes\n",
    "\n",
    "# Estimate the expected number of calls for each time duration\n",
    "expected_calls = {}\n",
    "for duration in time_durations:\n",
    "    lambda_adjusted = λ * duration\n",
    "    expected_calls[f\"{duration} hour(s)\"] = poisson.mean(lambda_adjusted)\n",
    "\n",
    "# Display the expected number of calls for each duration\n",
    "for duration, calls in expected_calls.items():\n",
    "    print(f\"Expected number of calls in {duration}: {calls:.2f}\")\n"
   ]
  },
  {
   "cell_type": "code",
   "execution_count": null,
   "metadata": {},
   "outputs": [],
   "source": []
  }
 ],
 "metadata": {
  "kernelspec": {
   "display_name": "base",
   "language": "python",
   "name": "python3"
  },
  "language_info": {
   "codemirror_mode": {
    "name": "ipython",
    "version": 3
   },
   "file_extension": ".py",
   "mimetype": "text/x-python",
   "name": "python",
   "nbconvert_exporter": "python",
   "pygments_lexer": "ipython3",
   "version": "3.12.2"
  }
 },
 "nbformat": 4,
 "nbformat_minor": 2
}
